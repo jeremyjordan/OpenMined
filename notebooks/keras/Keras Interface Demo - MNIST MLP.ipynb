{
 "cells": [
  {
   "cell_type": "code",
   "execution_count": 5,
   "metadata": {},
   "outputs": [
    {
     "name": "stdout",
     "output_type": "stream",
     "text": [
      "60000 train samples\n",
      "10000 test samples\n"
     ]
    }
   ],
   "source": [
    "'''Trains a simple deep NN on the MNIST dataset.\n",
    "Gets to 98.40% test accuracy after 20 epochs\n",
    "(there is *a lot* of margin for parameter tuning).\n",
    "2 seconds per epoch on a K520 GPU.\n",
    "'''\n",
    "\n",
    "# Original Demo: https://github.com/keras-team/keras/blob/master/examples/mnist_mlp.py\n",
    "\n",
    "from __future__ import print_function\n",
    "\n",
    "import keras\n",
    "from keras.datasets import mnist\n",
    "from keras.models import Sequential\n",
    "from keras.layers import Dense, Dropout\n",
    "from keras.optimizers import RMSprop\n",
    "\n",
    "# import syft.interfaces.keras as keras\n",
    "# from syft.interfaces.keras.datasets import mnist\n",
    "# from syft.interfaces.keras.models import Sequential\n",
    "# from syft.interfaces.keras.layers import Dense, Dropout\n",
    "# from syft.interfaces.keras.optimizers import RMSprop\n",
    "\n",
    "batch_size = 128\n",
    "num_classes = 10\n",
    "epochs = 20\n",
    "\n",
    "# the data, shuffled and split between train and test sets\n",
    "(x_train, y_train), (x_test, y_test) = mnist.load_data()\n",
    "\n",
    "x_train = x_train.reshape(60000, 784)\n",
    "x_test = x_test.reshape(10000, 784)\n",
    "x_train = x_train.astype('float32')\n",
    "x_test = x_test.astype('float32')\n",
    "x_train /= 255\n",
    "x_test /= 255\n",
    "print(x_train.shape[0], 'train samples')\n",
    "print(x_test.shape[0], 'test samples')\n",
    "\n",
    "# convert class vectors to binary class matrices\n",
    "y_train = keras.utils.to_categorical(y_train, num_classes)\n",
    "y_test = keras.utils.to_categorical(y_test, num_classes)"
   ]
  },
  {
   "cell_type": "code",
   "execution_count": 2,
   "metadata": {
    "scrolled": true
   },
   "outputs": [],
   "source": [
    "model = Sequential()\n",
    "model.add(Dense(512, activation='relu', input_shape=(784,)))\n",
    "model.add(Dropout(0.2))\n",
    "model.add(Dense(512, activation='relu'))\n",
    "model.add(Dropout(0.2))\n",
    "model.add(Dense(num_classes, activation='softmax'))"
   ]
  },
  {
   "cell_type": "code",
   "execution_count": 4,
   "metadata": {},
   "outputs": [
    {
     "ename": "AttributeError",
     "evalue": "'Sequential' object has no attribute 'summary'",
     "output_type": "error",
     "traceback": [
      "\u001b[0;31m---------------------------------------------------------------------------\u001b[0m",
      "\u001b[0;31mAttributeError\u001b[0m                            Traceback (most recent call last)",
      "\u001b[0;32m<ipython-input-4-9a7881f870d4>\u001b[0m in \u001b[0;36m<module>\u001b[0;34m()\u001b[0m\n\u001b[0;32m----> 1\u001b[0;31m \u001b[0mmodel\u001b[0m\u001b[0;34m.\u001b[0m\u001b[0msummary\u001b[0m\u001b[0;34m(\u001b[0m\u001b[0;34m)\u001b[0m\u001b[0;34m\u001b[0m\u001b[0m\n\u001b[0m",
      "\u001b[0;31mAttributeError\u001b[0m: 'Sequential' object has no attribute 'summary'"
     ]
    }
   ],
   "source": [
    "model.summary()"
   ]
  },
  {
   "cell_type": "code",
   "execution_count": 8,
   "metadata": {
    "collapsed": true
   },
   "outputs": [],
   "source": [
    "model.compile(loss='categorical_crossentropy',\n",
    "              optimizer=RMSprop(),\n",
    "              metrics=['accuracy'])"
   ]
  },
  {
   "cell_type": "code",
   "execution_count": 9,
   "metadata": {},
   "outputs": [
    {
     "name": "stdout",
     "output_type": "stream",
     "text": [
      "Train on 60000 samples, validate on 10000 samples\n",
      "Epoch 1/20\n",
      "60000/60000 [==============================] - 7s - loss: 0.2465 - acc: 0.9238 - val_loss: 0.1049 - val_acc: 0.9670\n",
      "Epoch 2/20\n",
      "60000/60000 [==============================] - 7s - loss: 0.1012 - acc: 0.9687 - val_loss: 0.0823 - val_acc: 0.9741\n",
      "Epoch 3/20\n",
      "60000/60000 [==============================] - 7s - loss: 0.0759 - acc: 0.9773 - val_loss: 0.0829 - val_acc: 0.9753\n",
      "Epoch 4/20\n",
      "60000/60000 [==============================] - 7s - loss: 0.0595 - acc: 0.9822 - val_loss: 0.0756 - val_acc: 0.9787\n",
      "Epoch 5/20\n",
      "60000/60000 [==============================] - 7s - loss: 0.0503 - acc: 0.9849 - val_loss: 0.0651 - val_acc: 0.9830\n",
      "Epoch 6/20\n",
      "60000/60000 [==============================] - 7s - loss: 0.0439 - acc: 0.9869 - val_loss: 0.0768 - val_acc: 0.9815\n",
      "Epoch 7/20\n",
      "60000/60000 [==============================] - 7s - loss: 0.0399 - acc: 0.9885 - val_loss: 0.0752 - val_acc: 0.9817\n",
      "Epoch 8/20\n",
      "60000/60000 [==============================] - 7s - loss: 0.0345 - acc: 0.9897 - val_loss: 0.0846 - val_acc: 0.9802\n",
      "Epoch 9/20\n",
      "60000/60000 [==============================] - 7s - loss: 0.0310 - acc: 0.9908 - val_loss: 0.0841 - val_acc: 0.9825\n",
      "Epoch 10/20\n",
      "60000/60000 [==============================] - 7s - loss: 0.0287 - acc: 0.9919 - val_loss: 0.0853 - val_acc: 0.9831\n",
      "Epoch 11/20\n",
      "60000/60000 [==============================] - 7s - loss: 0.0270 - acc: 0.9918 - val_loss: 0.1040 - val_acc: 0.9798\n",
      "Epoch 12/20\n",
      "60000/60000 [==============================] - 7s - loss: 0.0247 - acc: 0.9932 - val_loss: 0.0965 - val_acc: 0.9817\n",
      "Epoch 13/20\n",
      "60000/60000 [==============================] - 8s - loss: 0.0227 - acc: 0.9935 - val_loss: 0.0872 - val_acc: 0.9839\n",
      "Epoch 14/20\n",
      "60000/60000 [==============================] - 8s - loss: 0.0214 - acc: 0.9939 - val_loss: 0.1066 - val_acc: 0.9823\n",
      "Epoch 15/20\n",
      "60000/60000 [==============================] - 7s - loss: 0.0215 - acc: 0.9938 - val_loss: 0.0932 - val_acc: 0.9837\n",
      "Epoch 16/20\n",
      "60000/60000 [==============================] - 8s - loss: 0.0209 - acc: 0.9943 - val_loss: 0.1146 - val_acc: 0.9816\n",
      "Epoch 17/20\n",
      "60000/60000 [==============================] - 8s - loss: 0.0199 - acc: 0.9945 - val_loss: 0.1046 - val_acc: 0.9840\n",
      "Epoch 18/20\n",
      "60000/60000 [==============================] - 7s - loss: 0.0177 - acc: 0.9952 - val_loss: 0.0983 - val_acc: 0.9839\n",
      "Epoch 19/20\n",
      "60000/60000 [==============================] - 7s - loss: 0.0175 - acc: 0.9957 - val_loss: 0.1281 - val_acc: 0.9805\n",
      "Epoch 20/20\n",
      "60000/60000 [==============================] - 7s - loss: 0.0183 - acc: 0.9957 - val_loss: 0.1103 - val_acc: 0.9836\n"
     ]
    }
   ],
   "source": [
    "history = model.fit(x_train, y_train,\n",
    "                    batch_size=batch_size,\n",
    "                    epochs=epochs,\n",
    "                    verbose=1,\n",
    "                    validation_data=(x_test, y_test))"
   ]
  },
  {
   "cell_type": "code",
   "execution_count": null,
   "metadata": {
    "collapsed": true
   },
   "outputs": [],
   "source": [
    "\n",
    "\n",
    "\n",
    "\n",
    "\n",
    "\n",
    "\n",
    "\n",
    "\n",
    "\n",
    "\n",
    "\n",
    "\n",
    "\n",
    "score = model.evaluate(x_test, y_test, verbose=0)\n",
    "print('Test loss:', score[0])\n",
    "print('Test accuracy:', score[1])"
   ]
  }
 ],
 "metadata": {
  "kernelspec": {
   "display_name": "Python 3",
   "language": "python",
   "name": "python3"
  },
  "language_info": {
   "codemirror_mode": {
    "name": "ipython",
    "version": 3
   },
   "file_extension": ".py",
   "mimetype": "text/x-python",
   "name": "python",
   "nbconvert_exporter": "python",
   "pygments_lexer": "ipython3",
   "version": "3.6.1"
  }
 },
 "nbformat": 4,
 "nbformat_minor": 2
}
