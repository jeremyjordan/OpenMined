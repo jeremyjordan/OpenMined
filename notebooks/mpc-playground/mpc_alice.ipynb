{
 "cells": [
  {
   "cell_type": "code",
   "execution_count": 1,
   "metadata": {},
   "outputs": [],
   "source": [
    "import notebook_importer"
   ]
  },
  {
   "cell_type": "code",
   "execution_count": 2,
   "metadata": {},
   "outputs": [
    {
     "name": "stdout",
     "output_type": "stream",
     "text": [
      "importing notebook from spdz.ipynb\n"
     ]
    }
   ],
   "source": [
    "import spdz\n",
    "import random\n",
    "import numpy as np\n",
    "import zmq\n",
    "import time"
   ]
  },
  {
   "cell_type": "code",
   "execution_count": 3,
   "metadata": {},
   "outputs": [],
   "source": [
    "# Alice is party 0\n",
    "party = 0\n",
    "\n",
    "# Connect to zmq\n",
    "context = zmq.Context()\n",
    "socket = context.socket(zmq.REQ)\n",
    "socket.connect (\"tcp://localhost:5555\")\n",
    "\n",
    "#TODO: tmp solution remove ASAP\n",
    "spdz.spdz_socket = socket\n",
    "spdz.socket_party = party"
   ]
  },
  {
   "cell_type": "code",
   "execution_count": 4,
   "metadata": {},
   "outputs": [
    {
     "name": "stdout",
     "output_type": "stream",
     "text": [
      "[[-0.00016596]\n",
      " [ 0.00044065]\n",
      " [-0.00099977]]\n"
     ]
    }
   ],
   "source": [
    "# seed random numbers to make calculation\n",
    "# deterministic (just a good practice)\n",
    "random.seed(1)\n",
    "np.random.seed(1)\n",
    "\n",
    "# initialize weights randomly with mean 0\n",
    "syn0 = (2*np.random.random((3,1)) - 1) / 1000\n",
    "syn0_alice, syn0_bob = spdz.secure(syn0)\n",
    "\n",
    "print(syn0)"
   ]
  },
  {
   "cell_type": "code",
   "execution_count": 5,
   "metadata": {},
   "outputs": [
    {
     "name": "stdout",
     "output_type": "stream",
     "text": [
      "OK\n"
     ]
    }
   ],
   "source": [
    "# Alice sends initial weights to Bob\n",
    "print(spdz.swap_shares(syn0_bob, party, socket))\n",
    "\n",
    "# Alice receives X and y data from Bob\n",
    "X_alice = spdz.swap_shares(np.array(\"OK\"), party, socket)\n",
    "y_alice = spdz.swap_shares(np.array(\"OK\"), party, socket)"
   ]
  },
  {
   "cell_type": "code",
   "execution_count": 6,
   "metadata": {},
   "outputs": [],
   "source": [
    "# Multiplication Test\n",
    "\n",
    "a, b = spdz.PrivateValue.secure(5)\n",
    "t = spdz.swap_shares(b, party, socket)\n",
    "res = a * t\n",
    "other = spdz.swap_shares(res, party, socket)"
   ]
  },
  {
   "cell_type": "code",
   "execution_count": 7,
   "metadata": {},
   "outputs": [
    {
     "name": "stdout",
     "output_type": "stream",
     "text": [
      "Elapsed Training Time:\n",
      " 3.2418148517608643\n",
      "Layer 0 weights: \n",
      "[[ 4.7238776]\n",
      " [-0.2363572]\n",
      " [-2.1361938]]\n"
     ]
    }
   ],
   "source": [
    "sigmoid = spdz.SigmoidInterpolated10(party, socket)\n",
    "result = sigmoid.evaluate(X_alice)\n",
    "result_bob = spdz.swap_shares(result, party, socket)\n",
    "\n",
    "network = spdz.TwoLayerNetwork(sigmoid, party, socket)\n",
    "\n",
    "start_time = time.time()\n",
    "network.train(X_alice, y_alice, syn0_alice)\n",
    "\n",
    "print(\"Elapsed Training Time:\\n\", time.time() - start_time)\n",
    "network.print_weights()\n",
    "\n",
    "preds = network.predict(X_alice)\n",
    "preds_bob = spdz.swap_shares(preds, party, socket)"
   ]
  },
  {
   "cell_type": "code",
   "execution_count": null,
   "metadata": {},
   "outputs": [],
   "source": []
  },
  {
   "cell_type": "code",
   "execution_count": null,
   "metadata": {},
   "outputs": [],
   "source": []
  }
 ],
 "metadata": {
  "kernelspec": {
   "display_name": "Python 3",
   "language": "python",
   "name": "python3"
  },
  "language_info": {
   "codemirror_mode": {
    "name": "ipython",
    "version": 3
   },
   "file_extension": ".py",
   "mimetype": "text/x-python",
   "name": "python",
   "nbconvert_exporter": "python",
   "pygments_lexer": "ipython3",
   "version": "3.6.3"
  }
 },
 "nbformat": 4,
 "nbformat_minor": 2
}
