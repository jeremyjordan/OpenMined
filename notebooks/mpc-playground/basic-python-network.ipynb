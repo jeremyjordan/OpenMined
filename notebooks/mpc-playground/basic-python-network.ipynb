{
 "cells": [
  {
   "cell_type": "code",
   "execution_count": 1,
   "metadata": {},
   "outputs": [],
   "source": [
    "# from http://iamtrask.github.io/2015/07/12/basic-python-network/\n",
    "\n",
    "import numpy as np\n",
    "import time"
   ]
  },
  {
   "cell_type": "code",
   "execution_count": 2,
   "metadata": {},
   "outputs": [],
   "source": [
    "# sigmoid function\n",
    "def nonlin(x,deriv=False):\n",
    "    if(deriv==True):\n",
    "        return x*(1-x)\n",
    "    return 1/(1+np.exp(-x))"
   ]
  },
  {
   "cell_type": "code",
   "execution_count": 3,
   "metadata": {},
   "outputs": [],
   "source": [
    "def sigmoid_interpolated(x, deriv=False):\n",
    "    if(deriv==True):\n",
    "        return x*(1-x)\n",
    "    \n",
    "    W0  = 0.5\n",
    "    W1  = 0.2159198  #015))\n",
    "    W3  = -0.0082176 #259))\n",
    "    W5  = 0.0001825  #597))\n",
    "    W7  = -0.0000018 #848))\n",
    "    W9  = 0.0000000  #072))\n",
    "\n",
    "    x2 = x * x\n",
    "    x3 = x2 * x\n",
    "    x5 = x2 * x3\n",
    "    x7 = x2 * x5\n",
    "    x9 = x2 * x7\n",
    "\n",
    "    return x9 * W9 + x7 * W7 + x5 *W5 + x3 * W3 + x * W1 + W0"
   ]
  },
  {
   "cell_type": "code",
   "execution_count": 4,
   "metadata": {},
   "outputs": [],
   "source": [
    "# input dataset\n",
    "X = np.array([  [0,0,1],\n",
    "                [0,1,1],\n",
    "                [1,0,1],\n",
    "                [1,1,1] ])\n",
    "    \n",
    "# output dataset            \n",
    "y = np.array([[0,0,1,1]]).T"
   ]
  },
  {
   "cell_type": "code",
   "execution_count": 5,
   "metadata": {},
   "outputs": [
    {
     "name": "stdout",
     "output_type": "stream",
     "text": [
      "[[-0.00016596]\n",
      " [ 0.00044065]\n",
      " [-0.00099977]]\n"
     ]
    }
   ],
   "source": [
    "# seed random numbers to make calculation\n",
    "# deterministic (just a good practice)\n",
    "np.random.seed(1)\n",
    "\n",
    "# initialize weights randomly with mean 0\n",
    "syn0 = (2*np.random.random((3,1)) - 1) / 1000\n",
    "\n",
    "print(syn0)"
   ]
  },
  {
   "cell_type": "code",
   "execution_count": 6,
   "metadata": {},
   "outputs": [],
   "source": [
    "start_time = time.time()"
   ]
  },
  {
   "cell_type": "code",
   "execution_count": 7,
   "metadata": {},
   "outputs": [],
   "source": [
    "for iter in range(100):\n",
    "\n",
    "    # forward propagation\n",
    "    l0 = X\n",
    "    l1 = sigmoid_interpolated(np.dot(l0,syn0))\n",
    "    #np.maximum(l1, 0, l1)\n",
    "    \n",
    "    # how much did we miss?\n",
    "    l1_error = y - l1\n",
    "\n",
    "    # multiply how much we missed by the \n",
    "    # slope of the sigmoid at the values in l1\n",
    "    l1_delta = l1_error * sigmoid_interpolated(l1,True)\n",
    "    \n",
    "    # update weights\n",
    "    syn0 += np.dot(l0.T,l1_delta)"
   ]
  },
  {
   "cell_type": "code",
   "execution_count": 8,
   "metadata": {},
   "outputs": [
    {
     "name": "stdout",
     "output_type": "stream",
     "text": [
      "Elapsed Training Time:\n",
      " 0.021358013153076172\n"
     ]
    }
   ],
   "source": [
    "print(\"Elapsed Training Time:\\n\", time.time() - start_time)"
   ]
  },
  {
   "cell_type": "code",
   "execution_count": 9,
   "metadata": {},
   "outputs": [
    {
     "name": "stdout",
     "output_type": "stream",
     "text": [
      "Output After Training:\n",
      "[[ 0.40024437]\n",
      " [ 0.36081025]\n",
      " [ 0.72714857]\n",
      " [ 0.6908204 ]]\n",
      "Weights After Training:\n",
      "[[ 1.68751916]\n",
      " [-0.20658497]\n",
      " [-0.52495068]]\n"
     ]
    }
   ],
   "source": [
    "print (\"Output After Training:\")\n",
    "print (l1)\n",
    "print (\"Weights After Training:\")\n",
    "print (syn0)"
   ]
  },
  {
   "cell_type": "code",
   "execution_count": 10,
   "metadata": {},
   "outputs": [
    {
     "name": "stdout",
     "output_type": "stream",
     "text": [
      "Predictions:\n",
      "[[ 0.38783428]\n",
      " [ 0.34522594]\n",
      " [ 0.73849175]\n",
      " [ 0.69938064]]\n"
     ]
    }
   ],
   "source": [
    "predictions = sigmoid_interpolated(np.dot(X,syn0))\n",
    "print(\"Predictions:\")\n",
    "print(predictions)"
   ]
  }
 ],
 "metadata": {
  "kernelspec": {
   "display_name": "Python 3",
   "language": "python",
   "name": "python3"
  },
  "language_info": {
   "codemirror_mode": {
    "name": "ipython",
    "version": 3
   },
   "file_extension": ".py",
   "mimetype": "text/x-python",
   "name": "python",
   "nbconvert_exporter": "python",
   "pygments_lexer": "ipython3",
   "version": "3.6.3"
  }
 },
 "nbformat": 4,
 "nbformat_minor": 2
}
