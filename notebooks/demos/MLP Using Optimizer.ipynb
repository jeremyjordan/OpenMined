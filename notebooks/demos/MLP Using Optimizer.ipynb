{
 "cells": [
  {
   "cell_type": "code",
   "execution_count": 1,
   "metadata": {},
   "outputs": [],
   "source": [
    "import syft\n",
    "import syft.nn as nn\n",
    "import syft.optim as optim\n",
    "from syft.controller import models, tensors\n",
    "import imp\n",
    "imp.reload(syft)\n",
    "imp.reload(syft.nn)\n",
    "\n",
    "import numpy as np\n",
    "from syft import FloatTensor"
   ]
  },
  {
   "cell_type": "code",
   "execution_count": 2,
   "metadata": {},
   "outputs": [],
   "source": [
    "model = nn.Sequential([\n",
    "    nn.Linear(3,4),\n",
    "    nn.Tanh(),\n",
    "    nn.Dropout(0.1),\n",
    "    nn.Linear(4,1),\n",
    "    nn.Sigmoid()\n",
    "])\n",
    "\n",
    "input = FloatTensor([[0,0,1],[0,1.0,1],[1,0,1],[1,1,1]], autograd=True)\n",
    "target = FloatTensor([[0],[0],[1],[1]], autograd=True)"
   ]
  },
  {
   "cell_type": "code",
   "execution_count": 3,
   "metadata": {
    "collapsed": true
   },
   "outputs": [],
   "source": [
    "optimizer = optim.SGD(model.parameters(),0.15)\n",
    "criterion = syft.nn.MSELoss()"
   ]
  },
  {
   "cell_type": "code",
   "execution_count": 4,
   "metadata": {},
   "outputs": [],
   "source": [
    "final_loss = model.fit(input=input,\n",
    "                       target=target,\n",
    "                       criterion=criterion,\n",
    "                       optim=optimizer,\n",
    "                       iters=15)"
   ]
  },
  {
   "cell_type": "code",
   "execution_count": 5,
   "metadata": {},
   "outputs": [
    {
     "data": {
      "text/plain": [
       "[ 0.1511719]\n",
       "[syft.FloatTensor:28 grad:30 size:1 c:[] p:[27, 29] init:div_scalar]\n",
       "\n",
       "\t-----------creators-----------\n",
       "\t[syft.FloatTensor:27 grad:31 size:1 c:[28] p:[25] init:sum_0]\n",
       "\t[syft.FloatTensor:29 grad:None size:1 c:[] p:[] init:div_scalar]\n",
       "\t------------------------------\n",
       "\n"
      ]
     },
     "execution_count": 5,
     "metadata": {},
     "output_type": "execute_result"
    }
   ],
   "source": [
    "final_loss"
   ]
  },
  {
   "cell_type": "code",
   "execution_count": 6,
   "metadata": {
    "collapsed": true
   },
   "outputs": [],
   "source": [
    "final_loss = model.fit(input,target,criterion,optimizer,10)"
   ]
  },
  {
   "cell_type": "code",
   "execution_count": 7,
   "metadata": {},
   "outputs": [
    {
     "data": {
      "text/plain": [
       "[ 0.09747159]\n",
       "[syft.FloatTensor:28 grad:30 size:1 c:[] p:[27, 29] init:div_scalar]\n",
       "\n",
       "\t-----------creators-----------\n",
       "\t[syft.FloatTensor:27 grad:31 size:1 c:[28] p:[25] init:sum_0]\n",
       "\t[syft.FloatTensor:29 grad:None size:1 c:[] p:[] init:div_scalar]\n",
       "\t------------------------------\n",
       "\n"
      ]
     },
     "execution_count": 7,
     "metadata": {},
     "output_type": "execute_result"
    }
   ],
   "source": [
    "final_loss"
   ]
  },
  {
   "cell_type": "code",
   "execution_count": null,
   "metadata": {
    "collapsed": true
   },
   "outputs": [],
   "source": []
  }
 ],
 "metadata": {
  "kernelspec": {
   "display_name": "Python 3",
   "language": "python",
   "name": "python3"
  },
  "language_info": {
   "codemirror_mode": {
    "name": "ipython",
    "version": 3
   },
   "file_extension": ".py",
   "mimetype": "text/x-python",
   "name": "python",
   "nbconvert_exporter": "python",
   "pygments_lexer": "ipython3",
   "version": "3.6.1"
  }
 },
 "nbformat": 4,
 "nbformat_minor": 2
}
